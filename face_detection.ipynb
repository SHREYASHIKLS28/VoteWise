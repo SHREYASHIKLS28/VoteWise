{
  "nbformat": 4,
  "nbformat_minor": 0,
  "metadata": {
    "colab": {
      "provenance": []
    },
    "kernelspec": {
      "name": "python3",
      "display_name": "Python 3"
    },
    "language_info": {
      "name": "python"
    }
  },
  "cells": [
    {
      "cell_type": "code",
      "source": [
        "!pip install opencv-python"
      ],
      "metadata": {
        "colab": {
          "base_uri": "https://localhost:8080/"
        },
        "id": "mQye5Z_iEUfM",
        "outputId": "75469ccc-a1be-4fff-c274-8b66b4645e56"
      },
      "execution_count": 21,
      "outputs": [
        {
          "output_type": "stream",
          "name": "stdout",
          "text": [
            "Requirement already satisfied: opencv-python in /usr/local/lib/python3.10/dist-packages (4.8.0.76)\n",
            "Requirement already satisfied: numpy>=1.21.2 in /usr/local/lib/python3.10/dist-packages (from opencv-python) (1.25.2)\n"
          ]
        }
      ]
    },
    {
      "cell_type": "code",
      "source": [
        "import cv2\n",
        "import sys"
      ],
      "metadata": {
        "id": "FVdlJ02FEZJU"
      },
      "execution_count": 22,
      "outputs": []
    },
    {
      "cell_type": "code",
      "source": [
        "cpath = sys.argv[1]\n",
        "facecasc = cv2.CascadeClassifier(cv2.data.haarcascades + \"haarcascade_frontalface_default.xml\")"
      ],
      "metadata": {
        "id": "g-TPi6EJEcXA"
      },
      "execution_count": 23,
      "outputs": []
    },
    {
      "cell_type": "markdown",
      "source": [],
      "metadata": {
        "id": "UJODFxZJGyMU"
      }
    },
    {
      "cell_type": "code",
      "source": [
        "vidcapture=cv2.VideoCapture(0)"
      ],
      "metadata": {
        "id": "xXyBjqb_EtUk"
      },
      "execution_count": 24,
      "outputs": []
    },
    {
      "cell_type": "code",
      "source": [
        "while True:\n",
        "  ret, frame=vidcapture.read()\n",
        "  if not ret:\n",
        "    break\n",
        "  color=cv2.cvtColor(frame,cv2.COLOR_BGR2GRAY)\n",
        "  face=face_cascade.detectMultiScale(color,scaleFactor=1.1,minneighbors=5,minSize=(30,30))\n",
        "  for (x,y,w,h) in face:\n",
        "    cv2.rectangle(frame, (x, y), (x+w, y+h), (0, 255, 0), 2)\n",
        "    cv2.imshow('Real-Time Face Detection', frame)\n",
        "    if cv2.waitKey(1) & 0xFF == ord('q'):\n",
        "        break"
      ],
      "metadata": {
        "id": "tmYwDHq291wJ"
      },
      "execution_count": 25,
      "outputs": []
    },
    {
      "cell_type": "code",
      "source": [
        "vidcapture.release()\n",
        "cv2.destroyAllWindows()"
      ],
      "metadata": {
        "id": "BvGGKufGHWDG"
      },
      "execution_count": 26,
      "outputs": []
    }
  ]
}